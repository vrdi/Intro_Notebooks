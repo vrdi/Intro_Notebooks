{
 "cells": [
  {
   "cell_type": "markdown",
   "metadata": {},
   "source": [
    "# Introduction to Joining Data in GeoPandas\n",
    "\n",
    "## Loading Packages and Data\n",
    "\n",
    "GeoPandas and pandas are typically imported using the aliases `gpd` and `pd`. GeoPandas exposes many (but not all) pandas methods, so import pandas as well. Import pyplot using the alias `plt`."
   ]
  },
  {
   "cell_type": "code",
   "execution_count": 2,
   "metadata": {},
   "outputs": [],
   "source": [
    "import geopandas as gpd\n",
    "import pandas as pd\n",
    "import matplotlib.pyplot as plt"
   ]
  },
  {
   "cell_type": "markdown",
   "metadata": {},
   "source": [
    "Begin by reading in the US counties shapefile. The link is to counties generalized for 20,000,000:1 (continental) scale mapping. For geometries are from 2010, and are appropriate for use with the 2010 Decennial Census."
   ]
  },
  {
   "cell_type": "code",
   "execution_count": 22,
   "metadata": {},
   "outputs": [],
   "source": [
    "geo = gpd.read_file(\"https://www2.census.gov/geo/tiger/GENZ2010/gz_2010_us_050_00_20m.zip\")"
   ]
  },
  {
   "cell_type": "markdown",
   "metadata": {},
   "source": [
    "After downloading, plot the GeoDataFrame using default settings. `plt.show` is not necessary if you are running this code in Spyder. In the notebook, it prevents display of the object identifier for the matplotlib object created by the call to `geo.plot`."
   ]
  },
  {
   "cell_type": "code",
   "execution_count": 23,
   "metadata": {},
   "outputs": [
    {
     "data": {
      "image/png": "[encoded data removed]",
      "text/plain": [
       "<Figure size 432x288 with 1 Axes>"
      ]
     },
     "metadata": {
      "needs_background": "light"
     },
     "output_type": "display_data"
    }
   ],
   "source": [
    "geo.plot()\n",
    "plt.show()"
   ]
  },
  {
   "cell_type": "markdown",
   "metadata": {},
   "source": [
    "A Python object can be \"pickled\", which means that a byte stream of the object is written to disk for later loading. Make sure that the file **ga_county.pickle** is in the same directory as this notebook. This pickle contains a pandas data frame with Georgia county data from subject table P5 - Hispanic or Latino Origin By Race. Load it and assign to the variable `ga_county`."
   ]
  },
  {
   "cell_type": "code",
   "execution_count": 12,
   "metadata": {},
   "outputs": [
    {
     "data": {
      "text/html": [
       "<div>\n",
       "<style scoped>\n",
       "    .dataframe tbody tr th:only-of-type {\n",
       "        vertical-align: middle;\n",
       "    }\n",
       "\n",
       "    .dataframe tbody tr th {\n",
       "        vertical-align: top;\n",
       "    }\n",
       "\n",
       "    .dataframe thead th {\n",
       "        text-align: right;\n",
       "    }\n",
       "</style>\n",
       "<table border=\"1\" class=\"dataframe\">\n",
       "  <thead>\n",
       "    <tr style=\"text-align: right;\">\n",
       "      <th></th>\n",
       "      <th>name</th>\n",
       "      <th>total</th>\n",
       "      <th>nonhispanic</th>\n",
       "      <th>white</th>\n",
       "      <th>black</th>\n",
       "      <th>aian</th>\n",
       "      <th>asian</th>\n",
       "      <th>pacific</th>\n",
       "      <th>other</th>\n",
       "      <th>multiracial</th>\n",
       "      <th>hispanic</th>\n",
       "      <th>hispanic_white</th>\n",
       "      <th>hispanic_black</th>\n",
       "      <th>hispanic_aian</th>\n",
       "      <th>hispanic_asian</th>\n",
       "      <th>hispanic_pacific</th>\n",
       "      <th>hispanic_other</th>\n",
       "      <th>hispanic_multiracial</th>\n",
       "      <th>state</th>\n",
       "      <th>county</th>\n",
       "    </tr>\n",
       "  </thead>\n",
       "  <tbody>\n",
       "    <tr>\n",
       "      <th>0</th>\n",
       "      <td>Banks County, Georgia</td>\n",
       "      <td>18395</td>\n",
       "      <td>17354</td>\n",
       "      <td>16526</td>\n",
       "      <td>416</td>\n",
       "      <td>36</td>\n",
       "      <td>165</td>\n",
       "      <td>0</td>\n",
       "      <td>9</td>\n",
       "      <td>202</td>\n",
       "      <td>1041</td>\n",
       "      <td>351</td>\n",
       "      <td>11</td>\n",
       "      <td>21</td>\n",
       "      <td>0</td>\n",
       "      <td>3</td>\n",
       "      <td>597</td>\n",
       "      <td>58</td>\n",
       "      <td>13</td>\n",
       "      <td>011</td>\n",
       "    </tr>\n",
       "    <tr>\n",
       "      <th>1</th>\n",
       "      <td>Barrow County, Georgia</td>\n",
       "      <td>69367</td>\n",
       "      <td>63330</td>\n",
       "      <td>51736</td>\n",
       "      <td>7769</td>\n",
       "      <td>130</td>\n",
       "      <td>2359</td>\n",
       "      <td>28</td>\n",
       "      <td>141</td>\n",
       "      <td>1167</td>\n",
       "      <td>6037</td>\n",
       "      <td>2929</td>\n",
       "      <td>120</td>\n",
       "      <td>56</td>\n",
       "      <td>23</td>\n",
       "      <td>8</td>\n",
       "      <td>2460</td>\n",
       "      <td>441</td>\n",
       "      <td>13</td>\n",
       "      <td>013</td>\n",
       "    </tr>\n",
       "    <tr>\n",
       "      <th>2</th>\n",
       "      <td>Ben Hill County, Georgia</td>\n",
       "      <td>17634</td>\n",
       "      <td>16608</td>\n",
       "      <td>10164</td>\n",
       "      <td>6087</td>\n",
       "      <td>47</td>\n",
       "      <td>120</td>\n",
       "      <td>2</td>\n",
       "      <td>15</td>\n",
       "      <td>173</td>\n",
       "      <td>1026</td>\n",
       "      <td>282</td>\n",
       "      <td>17</td>\n",
       "      <td>9</td>\n",
       "      <td>6</td>\n",
       "      <td>0</td>\n",
       "      <td>650</td>\n",
       "      <td>62</td>\n",
       "      <td>13</td>\n",
       "      <td>017</td>\n",
       "    </tr>\n",
       "    <tr>\n",
       "      <th>3</th>\n",
       "      <td>Camden County, Georgia</td>\n",
       "      <td>50513</td>\n",
       "      <td>47923</td>\n",
       "      <td>35977</td>\n",
       "      <td>9621</td>\n",
       "      <td>230</td>\n",
       "      <td>706</td>\n",
       "      <td>70</td>\n",
       "      <td>72</td>\n",
       "      <td>1247</td>\n",
       "      <td>2590</td>\n",
       "      <td>1580</td>\n",
       "      <td>178</td>\n",
       "      <td>29</td>\n",
       "      <td>18</td>\n",
       "      <td>6</td>\n",
       "      <td>495</td>\n",
       "      <td>284</td>\n",
       "      <td>13</td>\n",
       "      <td>039</td>\n",
       "    </tr>\n",
       "    <tr>\n",
       "      <th>4</th>\n",
       "      <td>Bleckley County, Georgia</td>\n",
       "      <td>13063</td>\n",
       "      <td>12762</td>\n",
       "      <td>9000</td>\n",
       "      <td>3533</td>\n",
       "      <td>7</td>\n",
       "      <td>109</td>\n",
       "      <td>3</td>\n",
       "      <td>8</td>\n",
       "      <td>102</td>\n",
       "      <td>301</td>\n",
       "      <td>151</td>\n",
       "      <td>31</td>\n",
       "      <td>6</td>\n",
       "      <td>1</td>\n",
       "      <td>0</td>\n",
       "      <td>86</td>\n",
       "      <td>26</td>\n",
       "      <td>13</td>\n",
       "      <td>023</td>\n",
       "    </tr>\n",
       "  </tbody>\n",
       "</table>\n",
       "</div>"
      ],
      "text/plain": [
       "                       name  total  nonhispanic  white  black  aian  asian  \\\n",
       "0     Banks County, Georgia  18395        17354  16526    416    36    165   \n",
       "1    Barrow County, Georgia  69367        63330  51736   7769   130   2359   \n",
       "2  Ben Hill County, Georgia  17634        16608  10164   6087    47    120   \n",
       "3    Camden County, Georgia  50513        47923  35977   9621   230    706   \n",
       "4  Bleckley County, Georgia  13063        12762   9000   3533     7    109   \n",
       "\n",
       "   pacific  other  multiracial  hispanic  hispanic_white  hispanic_black  \\\n",
       "0        0      9          202      1041             351              11   \n",
       "1       28    141         1167      6037            2929             120   \n",
       "2        2     15          173      1026             282              17   \n",
       "3       70     72         1247      2590            1580             178   \n",
       "4        3      8          102       301             151              31   \n",
       "\n",
       "   hispanic_aian  hispanic_asian  hispanic_pacific  hispanic_other  \\\n",
       "0             21               0                 3             597   \n",
       "1             56              23                 8            2460   \n",
       "2              9               6                 0             650   \n",
       "3             29              18                 6             495   \n",
       "4              6               1                 0              86   \n",
       "\n",
       "   hispanic_multiracial state county  \n",
       "0                    58    13    011  \n",
       "1                   441    13    013  \n",
       "2                    62    13    017  \n",
       "3                   284    13    039  \n",
       "4                    26    13    023  "
      ]
     },
     "execution_count": 12,
     "metadata": {},
     "output_type": "execute_result"
    }
   ],
   "source": [
    "ga_county = pd.read_pickle(\"ga_county.pickle\")\n",
    "ga_county.head()"
   ]
  },
  {
   "cell_type": "markdown",
   "metadata": {},
   "source": [
    "## Inner Joins\n",
    "\n",
    "We would like to join the data from this pandas DataFrame to the GeoDataFrame `geo` for mapping and spatial analysis. To do so, we first have to identify the join key(s), the column(s) that contain matching identifiers. Looking at the data in `ga_county`, you might realize that most of the columns contain population count data. The counties can be identified by the `name` column, but also by the codes in the `state` and `county` columns. Let's look at the data in `geo` to see if there are any potential matching columns."
   ]
  },
  {
   "cell_type": "code",
   "execution_count": 13,
   "metadata": {},
   "outputs": [
    {
     "data": {
      "text/html": [
       "<div>\n",
       "<style scoped>\n",
       "    .dataframe tbody tr th:only-of-type {\n",
       "        vertical-align: middle;\n",
       "    }\n",
       "\n",
       "    .dataframe tbody tr th {\n",
       "        vertical-align: top;\n",
       "    }\n",
       "\n",
       "    .dataframe thead th {\n",
       "        text-align: right;\n",
       "    }\n",
       "</style>\n",
       "<table border=\"1\" class=\"dataframe\">\n",
       "  <thead>\n",
       "    <tr style=\"text-align: right;\">\n",
       "      <th></th>\n",
       "      <th>GEO_ID</th>\n",
       "      <th>STATE</th>\n",
       "      <th>COUNTY</th>\n",
       "      <th>NAME</th>\n",
       "      <th>LSAD</th>\n",
       "      <th>CENSUSAREA</th>\n",
       "      <th>geometry</th>\n",
       "    </tr>\n",
       "  </thead>\n",
       "  <tbody>\n",
       "    <tr>\n",
       "      <th>0</th>\n",
       "      <td>0500000US01001</td>\n",
       "      <td>01</td>\n",
       "      <td>001</td>\n",
       "      <td>Autauga</td>\n",
       "      <td>County</td>\n",
       "      <td>594.436</td>\n",
       "      <td>POLYGON ((-86.496774 32.344437, -86.7178969999...</td>\n",
       "    </tr>\n",
       "    <tr>\n",
       "      <th>1</th>\n",
       "      <td>0500000US01009</td>\n",
       "      <td>01</td>\n",
       "      <td>009</td>\n",
       "      <td>Blount</td>\n",
       "      <td>County</td>\n",
       "      <td>644.776</td>\n",
       "      <td>POLYGON ((-86.577799 33.765316, -86.7591439999...</td>\n",
       "    </tr>\n",
       "    <tr>\n",
       "      <th>2</th>\n",
       "      <td>0500000US01017</td>\n",
       "      <td>01</td>\n",
       "      <td>017</td>\n",
       "      <td>Chambers</td>\n",
       "      <td>County</td>\n",
       "      <td>596.531</td>\n",
       "      <td>POLYGON ((-85.18413099999999 32.870525, -85.12...</td>\n",
       "    </tr>\n",
       "    <tr>\n",
       "      <th>3</th>\n",
       "      <td>0500000US01021</td>\n",
       "      <td>01</td>\n",
       "      <td>021</td>\n",
       "      <td>Chilton</td>\n",
       "      <td>County</td>\n",
       "      <td>692.854</td>\n",
       "      <td>POLYGON ((-86.51734399999999 33.020566, -86.51...</td>\n",
       "    </tr>\n",
       "    <tr>\n",
       "      <th>4</th>\n",
       "      <td>0500000US01033</td>\n",
       "      <td>01</td>\n",
       "      <td>033</td>\n",
       "      <td>Colbert</td>\n",
       "      <td>County</td>\n",
       "      <td>592.619</td>\n",
       "      <td>POLYGON ((-88.139988 34.581703, -88.139246 34....</td>\n",
       "    </tr>\n",
       "  </tbody>\n",
       "</table>\n",
       "</div>"
      ],
      "text/plain": [
       "           GEO_ID STATE COUNTY      NAME    LSAD  CENSUSAREA  \\\n",
       "0  0500000US01001    01    001   Autauga  County     594.436   \n",
       "1  0500000US01009    01    009    Blount  County     644.776   \n",
       "2  0500000US01017    01    017  Chambers  County     596.531   \n",
       "3  0500000US01021    01    021   Chilton  County     692.854   \n",
       "4  0500000US01033    01    033   Colbert  County     592.619   \n",
       "\n",
       "                                            geometry  \n",
       "0  POLYGON ((-86.496774 32.344437, -86.7178969999...  \n",
       "1  POLYGON ((-86.577799 33.765316, -86.7591439999...  \n",
       "2  POLYGON ((-85.18413099999999 32.870525, -85.12...  \n",
       "3  POLYGON ((-86.51734399999999 33.020566, -86.51...  \n",
       "4  POLYGON ((-88.139988 34.581703, -88.139246 34....  "
      ]
     },
     "execution_count": 13,
     "metadata": {},
     "output_type": "execute_result"
    }
   ],
   "source": [
    "geo.head()"
   ]
  },
  {
   "cell_type": "markdown",
   "metadata": {},
   "source": [
    "The `name` column in `ga_county` had names of the form \"<Name> County, <State>\". Note that `geo` also has a `NAME` column, but the column contains a bare county name. There are no consistently used data standards for names, and in general, names are often a poor choice to use as a join field. People's names may include a middle initial, a nickname, an honorific, etc. Place names are similarly inconsistent.\n",
    "\n",
    "`geo` does have a `STATE` and `COUNTY` column. These are two- and three-digit columns which look like they could be used to match the `state` and `county` columns in `ga_county`. In fact, these are Federal Information Processing Standards (FIPS) codes, which are used to uniquely identify geographic entities in the United States.\n",
    "\n",
    "Two methods are used to perform joins in pandas. The `merge` method is the core method, and `join` is a convenience method that applies certain defaults. `join` is most useful when the keys are the data frames' indexes. We will begin with `merge`.\n",
    "\n",
    "The two DataFrames being joined are referred to as \"left\" and \"right\". The left data frame is the one that is literally *on the left* of the line of code, that is, the one that is mentioned first. When calling `merge`, the join key can be specified in several ways. When the column names in the two data frames are different, keys must be specified using the `left_on` and `right_on` parameters. Because we are using a multicolumn join, the argument is passed as a list of column names. For a single-column join, the list brackets are usually omitted (but are harmless if included)."
   ]
  },
  {
   "cell_type": "code",
   "execution_count": 24,
   "metadata": {},
   "outputs": [
    {
     "data": {
      "image/png": "[encoded data removed]",
      "text/plain": [
       "<Figure size 432x288 with 1 Axes>"
      ]
     },
     "metadata": {
      "needs_background": "light"
     },
     "output_type": "display_data"
    }
   ],
   "source": [
    "geo1 = pd.merge(left = geo, right = ga_county, left_on = [\"STATE\", \"COUNTY\"], right_on = [\"state\", \"county\"])\n",
    "geo1.plot()\n",
    "plt.show()"
   ]
  },
  {
   "cell_type": "markdown",
   "metadata": {},
   "source": [
    "When we plotted `geo`, we saw all counties in the United States. Notice that now `geo1` only includes counties in Georgia. `merge` includes a `how` parameter, used to specify how to perform the join. The default is an **inner join** (`how = \"inner\"`), which retains only rows where the key is found in both the left and right DataFrames. Since `ga_county` only includes counties in Georgia, all of the rows in `geo` for counties outside of Georgia were dropped.\n",
    "\n",
    "When the join columns have the same names, the keys can be specified more simply using the `on` parameter. (For those familiar with SQL, this is equivalent to the `USING` keyword.) To demonstrate, first rename the columns in `geo` (deleting some columns we are not interested in). Then, specify the matching field names *once*, since they are the same in both DataFrames. Note also that the `left` and `right` parameters are the first positional parameters, so the parameter names are usually omitted."
   ]
  },
  {
   "cell_type": "code",
   "execution_count": 25,
   "metadata": {},
   "outputs": [
    {
     "data": {
      "image/png": "[encoded data removed]",
      "text/plain": [
       "<Figure size 432x288 with 1 Axes>"
      ]
     },
     "metadata": {
      "needs_background": "light"
     },
     "output_type": "display_data"
    }
   ],
   "source": [
    "geo.drop(columns = [\"GEO_ID\", \"NAME\", \"LSAD\", \"CENSUSAREA\"], inplace = True)\n",
    "geo.rename(columns = {\"STATE\": \"state\", \"COUNTY\": \"county\"}, inplace = True)\n",
    "\n",
    "geo1 = pd.merge(geo, ga_county, on = [\"state\", \"county\"])\n",
    "geo1.plot()\n",
    "plt.show()"
   ]
  },
  {
   "cell_type": "markdown",
   "metadata": {},
   "source": [
    "`merge` can also be called as a method of the left DataFrame, in which case the first parameter is the name of the right DataFrame. The following two lines of code produce the same result. Which one you use is a matter of taste."
   ]
  },
  {
   "cell_type": "code",
   "execution_count": null,
   "metadata": {},
   "outputs": [],
   "source": [
    "geo1 = pd.merge(geo, ga_county, on = [\"state\", \"county\"])\n",
    "geo1 = geo.merge(ga_county, on = [\"state\", \"county\"])"
   ]
  },
  {
   "cell_type": "markdown",
   "metadata": {},
   "source": [
    "When joining additional attribute data (that is, nonspatial data) to a spatial table, *the GeoDataFrame **must** be on the left*. Note the type of `geo1`:"
   ]
  },
  {
   "cell_type": "code",
   "execution_count": 26,
   "metadata": {},
   "outputs": [
    {
     "data": {
      "text/plain": [
       "geopandas.geodataframe.GeoDataFrame"
      ]
     },
     "execution_count": 26,
     "metadata": {},
     "output_type": "execute_result"
    }
   ],
   "source": [
    "type(geo1)"
   ]
  },
  {
   "cell_type": "markdown",
   "metadata": {},
   "source": [
    "Now reverse left and right, and note the type of object produced."
   ]
  },
  {
   "cell_type": "code",
   "execution_count": 28,
   "metadata": {},
   "outputs": [
    {
     "data": {
      "text/plain": [
       "pandas.core.frame.DataFrame"
      ]
     },
     "execution_count": 28,
     "metadata": {},
     "output_type": "execute_result"
    }
   ],
   "source": [
    "geo2 = pd.merge(ga_county, geo, on = [\"state\", \"county\"])\n",
    "type(geo2)"
   ]
  },
  {
   "cell_type": "markdown",
   "metadata": {},
   "source": [
    "The DataFrame still has a column named `geometry`, which contains shapely objects, but it is not longer understood to be a GeoDataFrame, and cannot be used for mapping or spatial analysis. If this happens, it is possible to turn a DataFrame into a GeoDataFrame by assigning a CRS (Coordinate Reference System) and specifying which column is the geometry column. In the code below, the somewhat unhelpful `geometry = \"geometry\"` means \"the geometry column is the column *named* geometry\". Census data is provided in lat-long coordinates using North American Datum 1983. The CRS parameters can be shortcut using [EPSG 4269](http://epsg.io/4269)."
   ]
  },
  {
   "cell_type": "code",
   "execution_count": 31,
   "metadata": {},
   "outputs": [
    {
     "data": {
      "text/plain": [
       "geopandas.geodataframe.GeoDataFrame"
      ]
     },
     "execution_count": 31,
     "metadata": {},
     "output_type": "execute_result"
    }
   ],
   "source": [
    "geo_recovery = gpd.GeoDataFrame(geo2, crs = {\"init\": \"epsg:4269\"}, geometry = \"geometry\")\n",
    "type(geo_recovery)"
   ]
  },
  {
   "cell_type": "markdown",
   "metadata": {},
   "source": [
    "Using the `gpd.GeoDataFrame` constructor can be very useful when given a table with lat-long (or other X-Y) coordinates. See [Creating a GeoDataFrame from a DataFrame with coordinates](http://geopandas.org/gallery/create_geopandas_from_pandas.html#creating-a-geodataframe-from-a-dataframe-with-coordinates). However, as we are discussing joins, do not use this to recover from a \"backwards\" join. Just remember to use the GeoDataFrame as the left DataFrame when joining.\n",
    "\n",
    "## Outer Joins\n",
    "\n",
    "Previously we did an **inner join**, which only retains rows that match between the two tables. You will sometimes want to do an **outer join** which retains rows from the left or right table, or both, even if there they key does not have a match in the other table. Since the left and right ordering is arbitrary, a **left join** can be rewritten as a **right join**, and vice versa. In practice, analysts will usually prefer to use left joins exclusively. Spatial analysts in particular will almost always use left joins, because they are almost always adding additional \"attribute data\" (nonpspatial columns) to a spatial data set, and as we saw previously, for the pandas `merge` to preserve the geospatial data the GeoDataFrame must be the on the left.\n",
    "\n",
    "The left join is accomplished using the `how` parameter. The options are `\"left\"`, `\"right\"`, and `\"outer\"`. These are *all* outer joins, but `\"outer\"` in this context means a **full outer join**, which retains all rows from *both* the left and right tables, even for keys that have no match in the other table.\n",
    "\n",
    "An example of a left join using the data we currently have loaded is as follows:"
   ]
  },
  {
   "cell_type": "code",
   "execution_count": 42,
   "metadata": {},
   "outputs": [
    {
     "data": {
      "text/plain": [
       "True"
      ]
     },
     "execution_count": 42,
     "metadata": {},
     "output_type": "execute_result"
    }
   ],
   "source": [
    "geo_left_join = pd.merge(geo, ga_county, on = [\"state\", \"county\"], how = \"left\")\n",
    "len(geo_left_join) == len(geo)"
   ]
  },
  {
   "cell_type": "markdown",
   "metadata": {},
   "source": [
    "Note that the length of the resulting data frame `geo_left_join` is the same as the length of the left data frame `geo`. Previously we created `geo1` using an inner join, and the length does *not* equal the length of `geo`:"
   ]
  },
  {
   "cell_type": "code",
   "execution_count": 43,
   "metadata": {},
   "outputs": [
    {
     "data": {
      "text/plain": [
       "False"
      ]
     },
     "execution_count": 43,
     "metadata": {},
     "output_type": "execute_result"
    }
   ],
   "source": [
    "len(geo1) == len(geo)"
   ]
  },
  {
   "cell_type": "markdown",
   "metadata": {},
   "source": [
    "## Joining on Indexes\n",
    "\n",
    "If your key is in your DataFrame index"
   ]
  },
  {
   "cell_type": "code",
   "execution_count": 44,
   "metadata": {},
   "outputs": [
    {
     "data": {
      "text/html": [
       "<div>\n",
       "<style scoped>\n",
       "    .dataframe tbody tr th:only-of-type {\n",
       "        vertical-align: middle;\n",
       "    }\n",
       "\n",
       "    .dataframe tbody tr th {\n",
       "        vertical-align: top;\n",
       "    }\n",
       "\n",
       "    .dataframe thead th {\n",
       "        text-align: right;\n",
       "    }\n",
       "</style>\n",
       "<table border=\"1\" class=\"dataframe\">\n",
       "  <thead>\n",
       "    <tr style=\"text-align: right;\">\n",
       "      <th></th>\n",
       "      <th></th>\n",
       "      <th>geometry</th>\n",
       "    </tr>\n",
       "    <tr>\n",
       "      <th>state</th>\n",
       "      <th>county</th>\n",
       "      <th></th>\n",
       "    </tr>\n",
       "  </thead>\n",
       "  <tbody>\n",
       "    <tr>\n",
       "      <th rowspan=\"5\" valign=\"top\">01</th>\n",
       "      <th>001</th>\n",
       "      <td>POLYGON ((-86.496774 32.344437, -86.7178969999...</td>\n",
       "    </tr>\n",
       "    <tr>\n",
       "      <th>009</th>\n",
       "      <td>POLYGON ((-86.577799 33.765316, -86.7591439999...</td>\n",
       "    </tr>\n",
       "    <tr>\n",
       "      <th>017</th>\n",
       "      <td>POLYGON ((-85.18413099999999 32.870525, -85.12...</td>\n",
       "    </tr>\n",
       "    <tr>\n",
       "      <th>021</th>\n",
       "      <td>POLYGON ((-86.51734399999999 33.020566, -86.51...</td>\n",
       "    </tr>\n",
       "    <tr>\n",
       "      <th>033</th>\n",
       "      <td>POLYGON ((-88.139988 34.581703, -88.139246 34....</td>\n",
       "    </tr>\n",
       "  </tbody>\n",
       "</table>\n",
       "</div>"
      ],
      "text/plain": [
       "                                                       geometry\n",
       "state county                                                   \n",
       "01    001     POLYGON ((-86.496774 32.344437, -86.7178969999...\n",
       "      009     POLYGON ((-86.577799 33.765316, -86.7591439999...\n",
       "      017     POLYGON ((-85.18413099999999 32.870525, -85.12...\n",
       "      021     POLYGON ((-86.51734399999999 33.020566, -86.51...\n",
       "      033     POLYGON ((-88.139988 34.581703, -88.139246 34...."
      ]
     },
     "execution_count": 44,
     "metadata": {},
     "output_type": "execute_result"
    }
   ],
   "source": [
    "geo_idx = geo.set_index([\"state\", \"county\"])\n",
    "geo_idx.head()"
   ]
  },
  {
   "cell_type": "code",
   "execution_count": 46,
   "metadata": {},
   "outputs": [
    {
     "data": {
      "text/html": [
       "<div>\n",
       "<style scoped>\n",
       "    .dataframe tbody tr th:only-of-type {\n",
       "        vertical-align: middle;\n",
       "    }\n",
       "\n",
       "    .dataframe tbody tr th {\n",
       "        vertical-align: top;\n",
       "    }\n",
       "\n",
       "    .dataframe thead th {\n",
       "        text-align: right;\n",
       "    }\n",
       "</style>\n",
       "<table border=\"1\" class=\"dataframe\">\n",
       "  <thead>\n",
       "    <tr style=\"text-align: right;\">\n",
       "      <th></th>\n",
       "      <th></th>\n",
       "      <th>name</th>\n",
       "      <th>total</th>\n",
       "      <th>nonhispanic</th>\n",
       "      <th>white</th>\n",
       "      <th>black</th>\n",
       "      <th>aian</th>\n",
       "      <th>asian</th>\n",
       "      <th>pacific</th>\n",
       "      <th>other</th>\n",
       "      <th>multiracial</th>\n",
       "      <th>hispanic</th>\n",
       "      <th>hispanic_white</th>\n",
       "      <th>hispanic_black</th>\n",
       "      <th>hispanic_aian</th>\n",
       "      <th>hispanic_asian</th>\n",
       "      <th>hispanic_pacific</th>\n",
       "      <th>hispanic_other</th>\n",
       "      <th>hispanic_multiracial</th>\n",
       "    </tr>\n",
       "    <tr>\n",
       "      <th>state</th>\n",
       "      <th>county</th>\n",
       "      <th></th>\n",
       "      <th></th>\n",
       "      <th></th>\n",
       "      <th></th>\n",
       "      <th></th>\n",
       "      <th></th>\n",
       "      <th></th>\n",
       "      <th></th>\n",
       "      <th></th>\n",
       "      <th></th>\n",
       "      <th></th>\n",
       "      <th></th>\n",
       "      <th></th>\n",
       "      <th></th>\n",
       "      <th></th>\n",
       "      <th></th>\n",
       "      <th></th>\n",
       "      <th></th>\n",
       "    </tr>\n",
       "  </thead>\n",
       "  <tbody>\n",
       "    <tr>\n",
       "      <th rowspan=\"5\" valign=\"top\">13</th>\n",
       "      <th>011</th>\n",
       "      <td>Banks County, Georgia</td>\n",
       "      <td>18395</td>\n",
       "      <td>17354</td>\n",
       "      <td>16526</td>\n",
       "      <td>416</td>\n",
       "      <td>36</td>\n",
       "      <td>165</td>\n",
       "      <td>0</td>\n",
       "      <td>9</td>\n",
       "      <td>202</td>\n",
       "      <td>1041</td>\n",
       "      <td>351</td>\n",
       "      <td>11</td>\n",
       "      <td>21</td>\n",
       "      <td>0</td>\n",
       "      <td>3</td>\n",
       "      <td>597</td>\n",
       "      <td>58</td>\n",
       "    </tr>\n",
       "    <tr>\n",
       "      <th>013</th>\n",
       "      <td>Barrow County, Georgia</td>\n",
       "      <td>69367</td>\n",
       "      <td>63330</td>\n",
       "      <td>51736</td>\n",
       "      <td>7769</td>\n",
       "      <td>130</td>\n",
       "      <td>2359</td>\n",
       "      <td>28</td>\n",
       "      <td>141</td>\n",
       "      <td>1167</td>\n",
       "      <td>6037</td>\n",
       "      <td>2929</td>\n",
       "      <td>120</td>\n",
       "      <td>56</td>\n",
       "      <td>23</td>\n",
       "      <td>8</td>\n",
       "      <td>2460</td>\n",
       "      <td>441</td>\n",
       "    </tr>\n",
       "    <tr>\n",
       "      <th>017</th>\n",
       "      <td>Ben Hill County, Georgia</td>\n",
       "      <td>17634</td>\n",
       "      <td>16608</td>\n",
       "      <td>10164</td>\n",
       "      <td>6087</td>\n",
       "      <td>47</td>\n",
       "      <td>120</td>\n",
       "      <td>2</td>\n",
       "      <td>15</td>\n",
       "      <td>173</td>\n",
       "      <td>1026</td>\n",
       "      <td>282</td>\n",
       "      <td>17</td>\n",
       "      <td>9</td>\n",
       "      <td>6</td>\n",
       "      <td>0</td>\n",
       "      <td>650</td>\n",
       "      <td>62</td>\n",
       "    </tr>\n",
       "    <tr>\n",
       "      <th>039</th>\n",
       "      <td>Camden County, Georgia</td>\n",
       "      <td>50513</td>\n",
       "      <td>47923</td>\n",
       "      <td>35977</td>\n",
       "      <td>9621</td>\n",
       "      <td>230</td>\n",
       "      <td>706</td>\n",
       "      <td>70</td>\n",
       "      <td>72</td>\n",
       "      <td>1247</td>\n",
       "      <td>2590</td>\n",
       "      <td>1580</td>\n",
       "      <td>178</td>\n",
       "      <td>29</td>\n",
       "      <td>18</td>\n",
       "      <td>6</td>\n",
       "      <td>495</td>\n",
       "      <td>284</td>\n",
       "    </tr>\n",
       "    <tr>\n",
       "      <th>023</th>\n",
       "      <td>Bleckley County, Georgia</td>\n",
       "      <td>13063</td>\n",
       "      <td>12762</td>\n",
       "      <td>9000</td>\n",
       "      <td>3533</td>\n",
       "      <td>7</td>\n",
       "      <td>109</td>\n",
       "      <td>3</td>\n",
       "      <td>8</td>\n",
       "      <td>102</td>\n",
       "      <td>301</td>\n",
       "      <td>151</td>\n",
       "      <td>31</td>\n",
       "      <td>6</td>\n",
       "      <td>1</td>\n",
       "      <td>0</td>\n",
       "      <td>86</td>\n",
       "      <td>26</td>\n",
       "    </tr>\n",
       "  </tbody>\n",
       "</table>\n",
       "</div>"
      ],
      "text/plain": [
       "                                  name  total  nonhispanic  white  black  \\\n",
       "state county                                                               \n",
       "13    011        Banks County, Georgia  18395        17354  16526    416   \n",
       "      013       Barrow County, Georgia  69367        63330  51736   7769   \n",
       "      017     Ben Hill County, Georgia  17634        16608  10164   6087   \n",
       "      039       Camden County, Georgia  50513        47923  35977   9621   \n",
       "      023     Bleckley County, Georgia  13063        12762   9000   3533   \n",
       "\n",
       "              aian  asian  pacific  other  multiracial  hispanic  \\\n",
       "state county                                                       \n",
       "13    011       36    165        0      9          202      1041   \n",
       "      013      130   2359       28    141         1167      6037   \n",
       "      017       47    120        2     15          173      1026   \n",
       "      039      230    706       70     72         1247      2590   \n",
       "      023        7    109        3      8          102       301   \n",
       "\n",
       "              hispanic_white  hispanic_black  hispanic_aian  hispanic_asian  \\\n",
       "state county                                                                  \n",
       "13    011                351              11             21               0   \n",
       "      013               2929             120             56              23   \n",
       "      017                282              17              9               6   \n",
       "      039               1580             178             29              18   \n",
       "      023                151              31              6               1   \n",
       "\n",
       "              hispanic_pacific  hispanic_other  hispanic_multiracial  \n",
       "state county                                                          \n",
       "13    011                    3             597                    58  \n",
       "      013                    8            2460                   441  \n",
       "      017                    0             650                    62  \n",
       "      039                    6             495                   284  \n",
       "      023                    0              86                    26  "
      ]
     },
     "execution_count": 46,
     "metadata": {},
     "output_type": "execute_result"
    }
   ],
   "source": [
    "ga_county_idx = ga_county.set_index([\"state\", \"county\"])\n",
    "ga_county_idx.head()"
   ]
  },
  {
   "cell_type": "markdown",
   "metadata": {},
   "source": [
    "Once you "
   ]
  },
  {
   "cell_type": "code",
   "execution_count": 48,
   "metadata": {},
   "outputs": [
    {
     "data": {
      "text/plain": [
       "159"
      ]
     },
     "execution_count": 48,
     "metadata": {},
     "output_type": "execute_result"
    }
   ],
   "source": [
    "geo3 = pd.merge(geo_idx, ga_county_idx, left_index = True, right_index = True)\n",
    "len(geo3)"
   ]
  },
  {
   "cell_type": "markdown",
   "metadata": {},
   "source": [
    "If you are joining by index, the `join` method can be a less verbose way to accomplish this. `join` is a wrapper for `merge` that by default joins on the DataFrames indexes. This behavior can be altered, but we won't explore all of the parameters here. Refer to the [`DataFrame.join`](https://pandas.pydata.org/pandas-docs/stable/reference/api/pandas.DataFrame.join.html) documentation for more information. Importantly, note that `join` defaults to a *left join*, whereas `merge` defaults to an *inner join*. An inner join can be specified with `how = \"inner\"`."
   ]
  },
  {
   "cell_type": "code",
   "execution_count": 50,
   "metadata": {},
   "outputs": [
    {
     "data": {
      "text/plain": [
       "3221"
      ]
     },
     "execution_count": 50,
     "metadata": {},
     "output_type": "execute_result"
    }
   ],
   "source": [
    "geo3 = geo_idx.join(ga_county_idx)\n",
    "len(geo3)"
   ]
  },
  {
   "cell_type": "markdown",
   "metadata": {},
   "source": [
    "Between these options, I would say that joining on columns (using `merge`) is more SQL-like, and joining on indexes (using `join`) is more Pythonic. Which one you use is a matter of taste. If your shop can be disciplined about how indexes are defined, there might be advantages to using the `join` syntax. But since DataFrames always have a serial index if no other index is supplied, you do run the risk of creating unintended joins if you aren't paying attention. For example, you try to join county data, but unintentionally use a state GeoDataFrame that does not have the column with a county ID key column, `merge` will fail. If you use `join` but the DataFrames have the default serial indexes (that is, have not been set to use geographic identifiers in the indexes), the DataFrames will be joined row-by-row, and the result will be nonsense."
   ]
  },
  {
   "cell_type": "markdown",
   "metadata": {},
   "source": [
    "## Basic Choropleth Mapping\n",
    "\n",
    "With the demographic data now joined to the shapefile, it is possible to create visualizations of the data. To begin, we project the geometries to an appropriate local CRS. A choropleth (color-shaded) map should not show raw counts, so we create a percent Hispanic column."
   ]
  },
  {
   "cell_type": "code",
   "execution_count": 36,
   "metadata": {},
   "outputs": [
    {
     "data": {
      "image/png": "[encoded data removed]",
      "text/plain": [
       "<Figure size 432x288 with 1 Axes>"
      ]
     },
     "metadata": {
      "needs_background": "light"
     },
     "output_type": "display_data"
    }
   ],
   "source": [
    "geo1 = geo1.to_crs(epsg = 26917)\n",
    "geo1[\"pct_hispanic\"] = 100 * geo1[\"hispanic\"] / geo1[\"total\"]\n",
    "geo1.plot(column = \"pct_hispanic\", cmap = \"YlOrRd\")\n",
    "plt.show()"
   ]
  },
  {
   "cell_type": "markdown",
   "metadata": {},
   "source": [
    "## GIS Join Fields\n",
    "\n",
    "SQL and Python can accommodate multicolumn joins, but desktop GIS such as QGIS and ArcGIS cannot. They can only join on a single column. Some Census data sources specify an appropriate single-column geographic identifier that can be used for joins.\n",
    "\n",
    "Early Census files contained a `GEOID` field, which can be seen in the printout of `geo` above. (This column was subsequently dropped.) The ID has the form \"0500000US01001\". The first three digits represent the **summary level**, a three-digit code for the geographic level. \"050\" is the code for county-level data. The next four 0s have a specific meaning, but in the data we are using are always going to be 0 and can be ignored. This is followed by \"US\", then the concatenated FIPS identifiers for the geography. This five-digit identifier is state \"01\" (Alabama) and county \"001\" (Autauga). It is this identifier that is commonly used by Census analysts for joins, and in more recent geospatial data released by the Census Bureau, the `GEOID` filed now contains identifiers of this format. The old-style identifier is preserved as `AFFGEOID` (for \"American Fact Finder GEOID\")."
   ]
  },
  {
   "cell_type": "code",
   "execution_count": 59,
   "metadata": {},
   "outputs": [
    {
     "data": {
      "text/html": [
       "<div>\n",
       "<style scoped>\n",
       "    .dataframe tbody tr th:only-of-type {\n",
       "        vertical-align: middle;\n",
       "    }\n",
       "\n",
       "    .dataframe tbody tr th {\n",
       "        vertical-align: top;\n",
       "    }\n",
       "\n",
       "    .dataframe thead th {\n",
       "        text-align: right;\n",
       "    }\n",
       "</style>\n",
       "<table border=\"1\" class=\"dataframe\">\n",
       "  <thead>\n",
       "    <tr style=\"text-align: right;\">\n",
       "      <th></th>\n",
       "      <th>STATEFP</th>\n",
       "      <th>COUNTYFP</th>\n",
       "      <th>COUNTYNS</th>\n",
       "      <th>AFFGEOID</th>\n",
       "      <th>GEOID</th>\n",
       "      <th>NAME</th>\n",
       "      <th>LSAD</th>\n",
       "      <th>ALAND</th>\n",
       "      <th>AWATER</th>\n",
       "      <th>geometry</th>\n",
       "    </tr>\n",
       "  </thead>\n",
       "  <tbody>\n",
       "    <tr>\n",
       "      <th>0</th>\n",
       "      <td>06</td>\n",
       "      <td>075</td>\n",
       "      <td>00277302</td>\n",
       "      <td>0500000US06075</td>\n",
       "      <td>06075</td>\n",
       "      <td>San Francisco</td>\n",
       "      <td>06</td>\n",
       "      <td>121485107</td>\n",
       "      <td>479107241</td>\n",
       "      <td>POLYGON ((-122.511983 37.77113, -122.465396 37...</td>\n",
       "    </tr>\n",
       "    <tr>\n",
       "      <th>1</th>\n",
       "      <td>25</td>\n",
       "      <td>025</td>\n",
       "      <td>00606939</td>\n",
       "      <td>0500000US25025</td>\n",
       "      <td>25025</td>\n",
       "      <td>Suffolk</td>\n",
       "      <td>06</td>\n",
       "      <td>150855462</td>\n",
       "      <td>160479920</td>\n",
       "      <td>POLYGON ((-71.19115499999999 42.283059, -71.15...</td>\n",
       "    </tr>\n",
       "    <tr>\n",
       "      <th>2</th>\n",
       "      <td>31</td>\n",
       "      <td>007</td>\n",
       "      <td>00835826</td>\n",
       "      <td>0500000US31007</td>\n",
       "      <td>31007</td>\n",
       "      <td>Banner</td>\n",
       "      <td>06</td>\n",
       "      <td>1932676697</td>\n",
       "      <td>397069</td>\n",
       "      <td>POLYGON ((-104.052825235239 41.69795385306401,...</td>\n",
       "    </tr>\n",
       "    <tr>\n",
       "      <th>3</th>\n",
       "      <td>37</td>\n",
       "      <td>181</td>\n",
       "      <td>01008591</td>\n",
       "      <td>0500000US37181</td>\n",
       "      <td>37181</td>\n",
       "      <td>Vance</td>\n",
       "      <td>06</td>\n",
       "      <td>653705784</td>\n",
       "      <td>42187365</td>\n",
       "      <td>POLYGON ((-78.497783 36.514477, -78.4572778962...</td>\n",
       "    </tr>\n",
       "    <tr>\n",
       "      <th>4</th>\n",
       "      <td>48</td>\n",
       "      <td>421</td>\n",
       "      <td>01383996</td>\n",
       "      <td>0500000US48421</td>\n",
       "      <td>48421</td>\n",
       "      <td>Sherman</td>\n",
       "      <td>06</td>\n",
       "      <td>2390651189</td>\n",
       "      <td>428754</td>\n",
       "      <td>POLYGON ((-102.162463 36.500326, -102.03233901...</td>\n",
       "    </tr>\n",
       "  </tbody>\n",
       "</table>\n",
       "</div>"
      ],
      "text/plain": [
       "  STATEFP COUNTYFP  COUNTYNS        AFFGEOID  GEOID           NAME LSAD  \\\n",
       "0      06      075  00277302  0500000US06075  06075  San Francisco   06   \n",
       "1      25      025  00606939  0500000US25025  25025        Suffolk   06   \n",
       "2      31      007  00835826  0500000US31007  31007         Banner   06   \n",
       "3      37      181  01008591  0500000US37181  37181          Vance   06   \n",
       "4      48      421  01383996  0500000US48421  48421        Sherman   06   \n",
       "\n",
       "        ALAND     AWATER                                           geometry  \n",
       "0   121485107  479107241  POLYGON ((-122.511983 37.77113, -122.465396 37...  \n",
       "1   150855462  160479920  POLYGON ((-71.19115499999999 42.283059, -71.15...  \n",
       "2  1932676697     397069  POLYGON ((-104.052825235239 41.69795385306401,...  \n",
       "3   653705784   42187365  POLYGON ((-78.497783 36.514477, -78.4572778962...  \n",
       "4  2390651189     428754  POLYGON ((-102.162463 36.500326, -102.03233901...  "
      ]
     },
     "execution_count": 59,
     "metadata": {},
     "output_type": "execute_result"
    }
   ],
   "source": [
    "geo2017 = gpd.read_file(\"https://www2.census.gov/geo/tiger/GENZ2017/shp/cb_2017_us_county_20m.zip\")\n",
    "geo2017.head()"
   ]
  },
  {
   "cell_type": "markdown",
   "metadata": {},
   "source": [
    "As the Census API calls will not return a single-column identifier, the GEOIDs across various heirarchies must be concatenated for use as a single-column join key."
   ]
  },
  {
   "cell_type": "code",
   "execution_count": 62,
   "metadata": {},
   "outputs": [
    {
     "data": {
      "text/html": [
       "<div>\n",
       "<style scoped>\n",
       "    .dataframe tbody tr th:only-of-type {\n",
       "        vertical-align: middle;\n",
       "    }\n",
       "\n",
       "    .dataframe tbody tr th {\n",
       "        vertical-align: top;\n",
       "    }\n",
       "\n",
       "    .dataframe thead th {\n",
       "        text-align: right;\n",
       "    }\n",
       "</style>\n",
       "<table border=\"1\" class=\"dataframe\">\n",
       "  <thead>\n",
       "    <tr style=\"text-align: right;\">\n",
       "      <th></th>\n",
       "      <th>name</th>\n",
       "      <th>median_household_income</th>\n",
       "      <th>state</th>\n",
       "      <th>county</th>\n",
       "    </tr>\n",
       "  </thead>\n",
       "  <tbody>\n",
       "    <tr>\n",
       "      <th>0</th>\n",
       "      <td>Clay County, Georgia</td>\n",
       "      <td>23315</td>\n",
       "      <td>13</td>\n",
       "      <td>061</td>\n",
       "    </tr>\n",
       "    <tr>\n",
       "      <th>1</th>\n",
       "      <td>Echols County, Georgia</td>\n",
       "      <td>34315</td>\n",
       "      <td>13</td>\n",
       "      <td>101</td>\n",
       "    </tr>\n",
       "    <tr>\n",
       "      <th>2</th>\n",
       "      <td>Glynn County, Georgia</td>\n",
       "      <td>47546</td>\n",
       "      <td>13</td>\n",
       "      <td>127</td>\n",
       "    </tr>\n",
       "    <tr>\n",
       "      <th>3</th>\n",
       "      <td>DeKalb County, Georgia</td>\n",
       "      <td>55876</td>\n",
       "      <td>13</td>\n",
       "      <td>089</td>\n",
       "    </tr>\n",
       "    <tr>\n",
       "      <th>4</th>\n",
       "      <td>Haralson County, Georgia</td>\n",
       "      <td>43663</td>\n",
       "      <td>13</td>\n",
       "      <td>143</td>\n",
       "    </tr>\n",
       "  </tbody>\n",
       "</table>\n",
       "</div>"
      ],
      "text/plain": [
       "                       name  median_household_income state county\n",
       "0      Clay County, Georgia                    23315    13    061\n",
       "1    Echols County, Georgia                    34315    13    101\n",
       "2     Glynn County, Georgia                    47546    13    127\n",
       "3    DeKalb County, Georgia                    55876    13    089\n",
       "4  Haralson County, Georgia                    43663    13    143"
      ]
     },
     "execution_count": 62,
     "metadata": {},
     "output_type": "execute_result"
    }
   ],
   "source": [
    "ga_county_mhi = pd.read_pickle(\"ga_county_mhi.pickle\")\n",
    "ga_county_mhi.head()"
   ]
  },
  {
   "cell_type": "code",
   "execution_count": 63,
   "metadata": {},
   "outputs": [
    {
     "data": {
      "image/png": "[encoded data removed]",
      "text/plain": [
       "<Figure size 432x288 with 1 Axes>"
      ]
     },
     "metadata": {
      "needs_background": "light"
     },
     "output_type": "display_data"
    }
   ],
   "source": [
    "ga_county_mhi[\"GEOID\"] = ga_county_mhi[\"state\"] + ga_county_mhi[\"county\"]\n",
    "geo2017 = geo2017.to_crs(epsg = 26917)\n",
    "geo2017 = pd.merge(geo2017, ga_county_mhi, on = \"GEOID\")\n",
    "geo2017.plot(column = \"median_household_income\", cmap = \"YlOrRd\")\n",
    "plt.show()"
   ]
  },
  {
   "cell_type": "markdown",
   "metadata": {},
   "source": [
    "## Caveats\n",
    "\n",
    "Some of you will be downloading Census data from [NHGIS.org](https://nhgis.org/). NHGIS makes it easy to select matching geospatial and attribute data, and provides a `GISJOIN` column that can be used as a single-column join between the resulting shapefile and CSV file. This is straightforward and is not demonstrated here.\n",
    "\n",
    "The NHGIS `GISJOIN` field contains FIPS codes but follows a format unique to NHGIS, so *cannot* be used (without further manipulation) to join NHGIS-sourced shapefiles to Census-sourced attribute data, or Census-sourced shapefiles to NGHIS-sourced attribute data. If you want to combine data from mixed sources, you will have to use string manipulation to coerce the field from one format to the other.\n",
    "\n",
    "You must pay attention to the **vintage** (data year) of Census products. Census geographies go through an overhaul every several years, but there are also small year-to-year changes, which include a combination of legal entity changes (e.g. a county's boundary shifting in relation to a neighboring county) as well as accuracy improvements in the data (which means the geometries will change, even though there is no \"real world\" change to the adminstrative boundary of the entity). Attibute data should always be joined to geospatial data of the same vintage. If you are working with ACS 2017 data, you should download TIGER/Line or Cartographic Boundary files for 2017. If you are working with 2010 Decennial Census data, you should download TIGER/Line or Cartographic Boundary files for 2010.\n",
    "\n",
    "## Spatial Joins\n",
    "\n",
    "So far, we have been doing what GIS analysts call an **attribute join**, which just means a join on nonspatial key fields. (It's still an attribute join if one of the input DataFrames is spatial.) A **spatial join** matches rows based on a *spatial relationship* between the two data frames. Since the join is based on a spatial relationship, both data frames must be GeoDataFrames.\n",
    "\n",
    "A spatial join does not in any way alter the input geometries. That is, while you might be familiar with an intersection operation that creates a new geometry based on the overlapping region of two input geometries, a spatial join merely asks whether the two geometries intersect (that is, share any points in common, including boundary points). If it does, then the attributes (nonspatial columns) of the right GeoDataFrame are added to the left GeoDataFrame. The geometries of the left GeoDataFrame are not altered in any way.\n",
    "\n",
    "So far, we have also been restricting ourselves to one-to-one joins. That is, each row had at most one matching row in the other table. One-to-many and many-to-many joins are also possible. For example, each state has multiple counties. If you have a county DataFrame and a state DataFrame, you might want to add information about each state to the county DataFrame. The data for each state would be repeated for every county in that state. While one-to-many and many-to-many joins are possible and even common with attribute data, they are especially likely with spatial joins, for example because point phenomena, such as UFO sightings, are likely to happen many times within geographic areas, such as states (and especially in New Mexico).\n",
    "\n",
    "In the [VRDI Introduction to GIS](https://github.com/gerrymandr/vrdi-intro-gis) you used Boston polling places (point) and precincts (polygons) to analyze polling place access. We will do something similar using GeoPandas. Start by loading the polling place coordinates and constructing a GeoDataFrame. We assing [EPSG:4326](http://epsg.io/4326), the coordinate system used for GPS lat-long coordinates, and very commonly the correct one to use if you are given lat-long data with no further information."
   ]
  },
  {
   "cell_type": "code",
   "execution_count": 20,
   "metadata": {},
   "outputs": [
    {
     "data": {
      "text/html": [
       "<div>\n",
       "<style scoped>\n",
       "    .dataframe tbody tr th:only-of-type {\n",
       "        vertical-align: middle;\n",
       "    }\n",
       "\n",
       "    .dataframe tbody tr th {\n",
       "        vertical-align: top;\n",
       "    }\n",
       "\n",
       "    .dataframe thead th {\n",
       "        text-align: right;\n",
       "    }\n",
       "</style>\n",
       "<table border=\"1\" class=\"dataframe\">\n",
       "  <thead>\n",
       "    <tr style=\"text-align: right;\">\n",
       "      <th></th>\n",
       "      <th>OBJECTID</th>\n",
       "      <th>NAME</th>\n",
       "      <th>ADDRESS</th>\n",
       "      <th>LONG</th>\n",
       "      <th>LAT</th>\n",
       "      <th>geometry</th>\n",
       "    </tr>\n",
       "  </thead>\n",
       "  <tbody>\n",
       "    <tr>\n",
       "      <th>0</th>\n",
       "      <td>1</td>\n",
       "      <td>THOMAS A. EDISON SCHOOL -</td>\n",
       "      <td>60 GLENMONT ROAD,</td>\n",
       "      <td>-71.160190</td>\n",
       "      <td>42.345580</td>\n",
       "      <td>POINT (-71.16019 42.34558004)</td>\n",
       "    </tr>\n",
       "    <tr>\n",
       "      <th>1</th>\n",
       "      <td>2</td>\n",
       "      <td>SAMUEL ADAMS ELEMENTARY SCHOOL -</td>\n",
       "      <td>165 WEBSTER STREET,</td>\n",
       "      <td>-71.034890</td>\n",
       "      <td>42.365554</td>\n",
       "      <td>POINT (-71.03488973 42.36555437)</td>\n",
       "    </tr>\n",
       "    <tr>\n",
       "      <th>2</th>\n",
       "      <td>3</td>\n",
       "      <td>EAST BOSTON HIGH SCHOOL GYMNASIUM -</td>\n",
       "      <td>86 WHITE STREET,</td>\n",
       "      <td>-71.034921</td>\n",
       "      <td>42.380949</td>\n",
       "      <td>POINT (-71.03492085000001 42.38094882)</td>\n",
       "    </tr>\n",
       "    <tr>\n",
       "      <th>3</th>\n",
       "      <td>4</td>\n",
       "      <td>CHEVERUS SCHOOL APARTMENTS -</td>\n",
       "      <td>10 MOORE STREET,</td>\n",
       "      <td>-71.020132</td>\n",
       "      <td>42.383818</td>\n",
       "      <td>POINT (-71.02013173 42.38381754)</td>\n",
       "    </tr>\n",
       "    <tr>\n",
       "      <th>4</th>\n",
       "      <td>5</td>\n",
       "      <td>ORIENT HEIGHTS YACHT CLUB -</td>\n",
       "      <td>61 BAYSWATER STREET.</td>\n",
       "      <td>-71.004660</td>\n",
       "      <td>42.384050</td>\n",
       "      <td>POINT (-71.00466 42.38405004)</td>\n",
       "    </tr>\n",
       "  </tbody>\n",
       "</table>\n",
       "</div>"
      ],
      "text/plain": [
       "   OBJECTID                                 NAME               ADDRESS  \\\n",
       "0         1            THOMAS A. EDISON SCHOOL -     60 GLENMONT ROAD,   \n",
       "1         2     SAMUEL ADAMS ELEMENTARY SCHOOL -   165 WEBSTER STREET,   \n",
       "2         3  EAST BOSTON HIGH SCHOOL GYMNASIUM -      86 WHITE STREET,   \n",
       "3         4         CHEVERUS SCHOOL APARTMENTS -      10 MOORE STREET,   \n",
       "4         5          ORIENT HEIGHTS YACHT CLUB -  61 BAYSWATER STREET.   \n",
       "\n",
       "        LONG        LAT                                geometry  \n",
       "0 -71.160190  42.345580           POINT (-71.16019 42.34558004)  \n",
       "1 -71.034890  42.365554        POINT (-71.03488973 42.36555437)  \n",
       "2 -71.034921  42.380949  POINT (-71.03492085000001 42.38094882)  \n",
       "3 -71.020132  42.383818        POINT (-71.02013173 42.38381754)  \n",
       "4 -71.004660  42.384050           POINT (-71.00466 42.38405004)  "
      ]
     },
     "execution_count": 20,
     "metadata": {},
     "output_type": "execute_result"
    }
   ],
   "source": [
    "polling = pd.read_csv(\"https://raw.githubusercontent.com/gerrymandr/vrdi-intro-gis/master/5.%20Point-Data/Polling_Locations_2017.csv\")\n",
    "geo_polling = gpd.GeoDataFrame(polling, crs = {\"init\": \"epsg:4326\"}, geometry = gpd.points_from_xy(polling.LONG, polling.LAT))\n",
    "geo_polling.head()"
   ]
  },
  {
   "cell_type": "markdown",
   "metadata": {},
   "source": [
    "Now load the Boston precincts. Check the CRS of the GeoDataFrame."
   ]
  },
  {
   "cell_type": "code",
   "execution_count": 31,
   "metadata": {},
   "outputs": [
    {
     "name": "stdout",
     "output_type": "stream",
     "text": [
      "{'init': 'epsg:32619'}\n"
     ]
    }
   ],
   "source": [
    "geo_precincts = gpd.read_file(\"https://github.com/gerrymandr/vrdi-intro-gis/raw/master/5.%20Point-Data/boston_precincts.zip\")\n",
    "print(geo_precincts.crs)"
   ]
  },
  {
   "cell_type": "markdown",
   "metadata": {},
   "source": [
    "The CRSes of these two files are not the same. In order to check do the spatial join, the input GeoDataFrames *must* be in the same CRS.\n",
    "\n",
    "We created `geo_polling` using WGS84, but the `geo_precincts` GeoDataFrame uses [EPSG:32619](http://epsg.io/32619), Universal Transverse Mercator Zone 19N. UTM 19N is a good choice for measurement and mapping, so we will project the polling places to this CRS. Note that we can use the `crs` attribute of one GeoDataFrame as the input argument for the `to_crs` call on the other GeoDataFrame, which will guarantee that they both end up in the same CRS."
   ]
  },
  {
   "cell_type": "code",
   "execution_count": 33,
   "metadata": {},
   "outputs": [
    {
     "name": "stdout",
     "output_type": "stream",
     "text": [
      "True\n"
     ]
    }
   ],
   "source": [
    "geo_polling = geo_polling.to_crs(geo_precincts.crs)\n",
    "print(geo_polling.crs == geo_precincts.crs)"
   ]
  },
  {
   "cell_type": "markdown",
   "metadata": {},
   "source": [
    "Now we are ready to do the spatial join. The GeoPandas method is [`geopandas.sjoin`](http://geopandas.org/reference/geopandas.sjoin.html#geopandas.sjoin). We will use `geo_polling` as the left GeoDataFrame, and add attributes from `geo_precincts`."
   ]
  },
  {
   "cell_type": "code",
   "execution_count": 34,
   "metadata": {},
   "outputs": [
    {
     "data": {
      "text/html": [
       "<div>\n",
       "<style scoped>\n",
       "    .dataframe tbody tr th:only-of-type {\n",
       "        vertical-align: middle;\n",
       "    }\n",
       "\n",
       "    .dataframe tbody tr th {\n",
       "        vertical-align: top;\n",
       "    }\n",
       "\n",
       "    .dataframe thead th {\n",
       "        text-align: right;\n",
       "    }\n",
       "</style>\n",
       "<table border=\"1\" class=\"dataframe\">\n",
       "  <thead>\n",
       "    <tr style=\"text-align: right;\">\n",
       "      <th></th>\n",
       "      <th>OBJECTID_left</th>\n",
       "      <th>NAME</th>\n",
       "      <th>ADDRESS</th>\n",
       "      <th>LONG</th>\n",
       "      <th>LAT</th>\n",
       "      <th>geometry</th>\n",
       "      <th>index_right</th>\n",
       "      <th>OBJECTID_right</th>\n",
       "      <th>PRECINCT</th>\n",
       "      <th>WARD_PRECI</th>\n",
       "      <th>TOTPOP</th>\n",
       "      <th>WHITE</th>\n",
       "      <th>BLACK</th>\n",
       "      <th>AMIN</th>\n",
       "      <th>ASIAN</th>\n",
       "      <th>NHPI</th>\n",
       "      <th>OTHER</th>\n",
       "      <th>2MORE</th>\n",
       "      <th>HISP</th>\n",
       "    </tr>\n",
       "  </thead>\n",
       "  <tbody>\n",
       "    <tr>\n",
       "      <th>0</th>\n",
       "      <td>1</td>\n",
       "      <td>THOMAS A. EDISON SCHOOL -</td>\n",
       "      <td>60 GLENMONT ROAD,</td>\n",
       "      <td>-71.160190</td>\n",
       "      <td>42.345580</td>\n",
       "      <td>POINT (322065.4679279972 4690406.750894698)</td>\n",
       "      <td>199</td>\n",
       "      <td>200</td>\n",
       "      <td>08</td>\n",
       "      <td>2208</td>\n",
       "      <td>2239</td>\n",
       "      <td>1599</td>\n",
       "      <td>61</td>\n",
       "      <td>1</td>\n",
       "      <td>398</td>\n",
       "      <td>0</td>\n",
       "      <td>10</td>\n",
       "      <td>41</td>\n",
       "      <td>125</td>\n",
       "    </tr>\n",
       "    <tr>\n",
       "      <th>238</th>\n",
       "      <td>239</td>\n",
       "      <td>THOMAS A. EDISON SCHOOL -</td>\n",
       "      <td>60 GLENMONT ROAD,</td>\n",
       "      <td>-71.160190</td>\n",
       "      <td>42.345580</td>\n",
       "      <td>POINT (322065.4679279972 4690406.750894698)</td>\n",
       "      <td>199</td>\n",
       "      <td>200</td>\n",
       "      <td>08</td>\n",
       "      <td>2208</td>\n",
       "      <td>2239</td>\n",
       "      <td>1599</td>\n",
       "      <td>61</td>\n",
       "      <td>1</td>\n",
       "      <td>398</td>\n",
       "      <td>0</td>\n",
       "      <td>10</td>\n",
       "      <td>41</td>\n",
       "      <td>125</td>\n",
       "    </tr>\n",
       "    <tr>\n",
       "      <th>1</th>\n",
       "      <td>2</td>\n",
       "      <td>SAMUEL ADAMS ELEMENTARY SCHOOL -</td>\n",
       "      <td>165 WEBSTER STREET,</td>\n",
       "      <td>-71.034890</td>\n",
       "      <td>42.365554</td>\n",
       "      <td>POINT (332439.9482394961 4692370.108939582)</td>\n",
       "      <td>226</td>\n",
       "      <td>227</td>\n",
       "      <td>01</td>\n",
       "      <td>0101</td>\n",
       "      <td>2070</td>\n",
       "      <td>1216</td>\n",
       "      <td>49</td>\n",
       "      <td>3</td>\n",
       "      <td>53</td>\n",
       "      <td>0</td>\n",
       "      <td>37</td>\n",
       "      <td>38</td>\n",
       "      <td>671</td>\n",
       "    </tr>\n",
       "    <tr>\n",
       "      <th>2</th>\n",
       "      <td>3</td>\n",
       "      <td>EAST BOSTON HIGH SCHOOL GYMNASIUM -</td>\n",
       "      <td>86 WHITE STREET,</td>\n",
       "      <td>-71.034921</td>\n",
       "      <td>42.380949</td>\n",
       "      <td>POINT (332478.3206404664 4694079.6106101)</td>\n",
       "      <td>221</td>\n",
       "      <td>222</td>\n",
       "      <td>08</td>\n",
       "      <td>0108</td>\n",
       "      <td>3760</td>\n",
       "      <td>995</td>\n",
       "      <td>89</td>\n",
       "      <td>4</td>\n",
       "      <td>220</td>\n",
       "      <td>0</td>\n",
       "      <td>10</td>\n",
       "      <td>65</td>\n",
       "      <td>2373</td>\n",
       "    </tr>\n",
       "    <tr>\n",
       "      <th>12</th>\n",
       "      <td>13</td>\n",
       "      <td>EAST BOSTON HIGH SCHOOL GYMNASIUM -</td>\n",
       "      <td>86 WHITE STREET,</td>\n",
       "      <td>-71.034921</td>\n",
       "      <td>42.380949</td>\n",
       "      <td>POINT (332478.3206404664 4694079.6106101)</td>\n",
       "      <td>221</td>\n",
       "      <td>222</td>\n",
       "      <td>08</td>\n",
       "      <td>0108</td>\n",
       "      <td>3760</td>\n",
       "      <td>995</td>\n",
       "      <td>89</td>\n",
       "      <td>4</td>\n",
       "      <td>220</td>\n",
       "      <td>0</td>\n",
       "      <td>10</td>\n",
       "      <td>65</td>\n",
       "      <td>2373</td>\n",
       "    </tr>\n",
       "  </tbody>\n",
       "</table>\n",
       "</div>"
      ],
      "text/plain": [
       "     OBJECTID_left                                 NAME              ADDRESS  \\\n",
       "0                1            THOMAS A. EDISON SCHOOL -    60 GLENMONT ROAD,   \n",
       "238            239            THOMAS A. EDISON SCHOOL -    60 GLENMONT ROAD,   \n",
       "1                2     SAMUEL ADAMS ELEMENTARY SCHOOL -  165 WEBSTER STREET,   \n",
       "2                3  EAST BOSTON HIGH SCHOOL GYMNASIUM -     86 WHITE STREET,   \n",
       "12              13  EAST BOSTON HIGH SCHOOL GYMNASIUM -     86 WHITE STREET,   \n",
       "\n",
       "          LONG        LAT                                     geometry  \\\n",
       "0   -71.160190  42.345580  POINT (322065.4679279972 4690406.750894698)   \n",
       "238 -71.160190  42.345580  POINT (322065.4679279972 4690406.750894698)   \n",
       "1   -71.034890  42.365554  POINT (332439.9482394961 4692370.108939582)   \n",
       "2   -71.034921  42.380949    POINT (332478.3206404664 4694079.6106101)   \n",
       "12  -71.034921  42.380949    POINT (332478.3206404664 4694079.6106101)   \n",
       "\n",
       "     index_right  OBJECTID_right PRECINCT WARD_PRECI  TOTPOP  WHITE  BLACK  \\\n",
       "0            199             200       08       2208    2239   1599     61   \n",
       "238          199             200       08       2208    2239   1599     61   \n",
       "1            226             227       01       0101    2070   1216     49   \n",
       "2            221             222       08       0108    3760    995     89   \n",
       "12           221             222       08       0108    3760    995     89   \n",
       "\n",
       "     AMIN  ASIAN  NHPI  OTHER  2MORE  HISP  \n",
       "0       1    398     0     10     41   125  \n",
       "238     1    398     0     10     41   125  \n",
       "1       3     53     0     37     38   671  \n",
       "2       4    220     0     10     65  2373  \n",
       "12      4    220     0     10     65  2373  "
      ]
     },
     "execution_count": 34,
     "metadata": {},
     "output_type": "execute_result"
    }
   ],
   "source": [
    "geo_polling = gpd.sjoin(geo_polling, geo_precincts)\n",
    "geo_polling.head()"
   ]
  },
  {
   "cell_type": "markdown",
   "metadata": {},
   "source": [
    "Note that `sjoin` has two useful parameters. `how` works as it does for `pandas.merge`, and defaults to performing an inner join. An additional parameter, `op`, specifies which shapely spatial relationship is used to \"match\" the geometries. The default is `\"intersection\"`, which means that the geometries can share any points in common, including boundary points. View the documentation for additional spatial relationships.\n",
    "\n",
    "Now that the data are joined, we can use pandas methods to ask how many polling places are in each ward (`WARD_PRECI`)."
   ]
  },
  {
   "cell_type": "code",
   "execution_count": 39,
   "metadata": {},
   "outputs": [
    {
     "data": {
      "text/plain": [
       "WARD_PRECI\n",
       "0101    1\n",
       "0102    1\n",
       "0103    1\n",
       "0104    2\n",
       "0108    5\n",
       "0111    1\n",
       "0112    1\n",
       "0113    1\n",
       "0114    1\n",
       "0201    2\n",
       "0202    2\n",
       "0206    3\n",
       "0301    1\n",
       "0303    2\n",
       "0304    1\n",
       "0305    2\n",
       "0306    1\n",
       "0307    3\n",
       "0308    1\n",
       "0401    2\n",
       "0402    3\n",
       "0404    1\n",
       "0405    1\n",
       "0406    3\n",
       "0408    1\n",
       "0409    1\n",
       "0410    1\n",
       "0501    1\n",
       "0502    3\n",
       "0503    1\n",
       "       ..\n",
       "1821    1\n",
       "1823    1\n",
       "1902    1\n",
       "1903    3\n",
       "1904    1\n",
       "1905    1\n",
       "1906    1\n",
       "1910    2\n",
       "1911    1\n",
       "1912    2\n",
       "2002    3\n",
       "2003    2\n",
       "2005    1\n",
       "2007    6\n",
       "2009    1\n",
       "2010    2\n",
       "2012    2\n",
       "2016    1\n",
       "2102    1\n",
       "2106    5\n",
       "2109    3\n",
       "2110    2\n",
       "2112    1\n",
       "2113    1\n",
       "2116    3\n",
       "2201    3\n",
       "2203    1\n",
       "2207    3\n",
       "2208    2\n",
       "2210    5\n",
       "Length: 139, dtype: int64"
      ]
     },
     "execution_count": 39,
     "metadata": {},
     "output_type": "execute_result"
    }
   ],
   "source": [
    "geo_polling.groupby(\"WARD_PRECI\").size()"
   ]
  },
  {
   "cell_type": "markdown",
   "metadata": {},
   "source": [
    "The wards have population data, including population by race and Hispanic origin. If you want to take this further, try the following:\n",
    "\n",
    "* Calculate the number of polling places per thousand population by ward.\n",
    "* Create a choropleth map of this calculation."
   ]
  }
 ],
 "metadata": {
  "kernelspec": {
   "display_name": "Python 3",
   "language": "python",
   "name": "python3"
  },
  "language_info": {
   "codemirror_mode": {
    "name": "ipython",
    "version": 3
   },
   "file_extension": ".py",
   "mimetype": "text/x-python",
   "name": "python",
   "nbconvert_exporter": "python",
   "pygments_lexer": "ipython3",
   "version": "3.7.3"
  }
 },
 "nbformat": 4,
 "nbformat_minor": 2
}
